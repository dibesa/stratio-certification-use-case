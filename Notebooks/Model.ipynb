{
 "cells": [
  {
   "cell_type": "markdown",
   "metadata": {},
   "source": [
    "# Risk Scoring Model"
   ]
  },
  {
   "cell_type": "markdown",
   "metadata": {},
   "source": [
    "This Notebook shows the construction of the Machine Learning model with the aim of assesing the assoiciated risk of a credit request."
   ]
  },
  {
   "cell_type": "markdown",
   "metadata": {},
   "source": [
    "## Python Libraries"
   ]
  },
  {
   "cell_type": "code",
   "execution_count": 32,
   "metadata": {},
   "outputs": [],
   "source": [
    "# Data managing\n",
    "import pandas as pd\n",
    "import numpy as np\n",
    "\n",
    "# Preprocesing\n",
    "from sklearn.pipeline import Pipeline\n",
    "from sklearn.preprocessing import MaxAbsScaler\n",
    "\n",
    "# Evaluation\n",
    "from sklearn.model_selection import cross_validate\n",
    "from sklearn.model_selection import StratifiedKFold\n",
    "\n",
    "# Optimization\n",
    "from sklearn.model_selection import GridSearchCV\n",
    "\n",
    "# ML Algorithms\n",
    "from sklearn.tree import DecisionTreeClassifier\n",
    "from sklearn.linear_model import Perceptron, LogisticRegression\n",
    "from sklearn.neighbors import KNeighborsClassifier\n",
    "from sklearn.svm import LinearSVC\n",
    "from sklearn.ensemble import RandomForestClassifier, BaggingClassifier, AdaBoostClassifier, GradientBoostingClassifier\n",
    "from sklearn.neural_network import MLPClassifier\n",
    "from sklearn.naive_bayes import MultinomialNB, GaussianNB, ComplementNB"
   ]
  },
  {
   "cell_type": "code",
   "execution_count": 2,
   "metadata": {},
   "outputs": [],
   "source": [
    "%matplotlib inline"
   ]
  },
  {
   "cell_type": "markdown",
   "metadata": {},
   "source": [
    "## Data Read"
   ]
  },
  {
   "cell_type": "code",
   "execution_count": 3,
   "metadata": {},
   "outputs": [
    {
     "data": {
      "text/html": [
       "<div>\n",
       "<style scoped>\n",
       "    .dataframe tbody tr th:only-of-type {\n",
       "        vertical-align: middle;\n",
       "    }\n",
       "\n",
       "    .dataframe tbody tr th {\n",
       "        vertical-align: top;\n",
       "    }\n",
       "\n",
       "    .dataframe thead th {\n",
       "        text-align: right;\n",
       "    }\n",
       "</style>\n",
       "<table border=\"1\" class=\"dataframe\">\n",
       "  <thead>\n",
       "    <tr style=\"text-align: right;\">\n",
       "      <th></th>\n",
       "      <th>Age</th>\n",
       "      <th>Sex</th>\n",
       "      <th>Job</th>\n",
       "      <th>Housing</th>\n",
       "      <th>Saving accounts</th>\n",
       "      <th>Checking account</th>\n",
       "      <th>Credit amount</th>\n",
       "      <th>Duration</th>\n",
       "      <th>Purpose</th>\n",
       "      <th>Risk</th>\n",
       "    </tr>\n",
       "  </thead>\n",
       "  <tbody>\n",
       "    <tr>\n",
       "      <th>0</th>\n",
       "      <td>67</td>\n",
       "      <td>male</td>\n",
       "      <td>2</td>\n",
       "      <td>own</td>\n",
       "      <td>NaN</td>\n",
       "      <td>little</td>\n",
       "      <td>1169</td>\n",
       "      <td>6</td>\n",
       "      <td>radio/TV</td>\n",
       "      <td>good</td>\n",
       "    </tr>\n",
       "    <tr>\n",
       "      <th>1</th>\n",
       "      <td>22</td>\n",
       "      <td>female</td>\n",
       "      <td>2</td>\n",
       "      <td>own</td>\n",
       "      <td>little</td>\n",
       "      <td>moderate</td>\n",
       "      <td>5951</td>\n",
       "      <td>48</td>\n",
       "      <td>radio/TV</td>\n",
       "      <td>bad</td>\n",
       "    </tr>\n",
       "    <tr>\n",
       "      <th>2</th>\n",
       "      <td>49</td>\n",
       "      <td>male</td>\n",
       "      <td>1</td>\n",
       "      <td>own</td>\n",
       "      <td>little</td>\n",
       "      <td>NaN</td>\n",
       "      <td>2096</td>\n",
       "      <td>12</td>\n",
       "      <td>education</td>\n",
       "      <td>good</td>\n",
       "    </tr>\n",
       "    <tr>\n",
       "      <th>3</th>\n",
       "      <td>45</td>\n",
       "      <td>male</td>\n",
       "      <td>2</td>\n",
       "      <td>free</td>\n",
       "      <td>little</td>\n",
       "      <td>little</td>\n",
       "      <td>7882</td>\n",
       "      <td>42</td>\n",
       "      <td>furniture/equipment</td>\n",
       "      <td>good</td>\n",
       "    </tr>\n",
       "    <tr>\n",
       "      <th>4</th>\n",
       "      <td>53</td>\n",
       "      <td>male</td>\n",
       "      <td>2</td>\n",
       "      <td>free</td>\n",
       "      <td>little</td>\n",
       "      <td>little</td>\n",
       "      <td>4870</td>\n",
       "      <td>24</td>\n",
       "      <td>car</td>\n",
       "      <td>bad</td>\n",
       "    </tr>\n",
       "  </tbody>\n",
       "</table>\n",
       "</div>"
      ],
      "text/plain": [
       "   Age     Sex  Job Housing Saving accounts Checking account  Credit amount  \\\n",
       "0   67    male    2     own             NaN           little           1169   \n",
       "1   22  female    2     own          little         moderate           5951   \n",
       "2   49    male    1     own          little              NaN           2096   \n",
       "3   45    male    2    free          little           little           7882   \n",
       "4   53    male    2    free          little           little           4870   \n",
       "\n",
       "   Duration              Purpose  Risk  \n",
       "0         6             radio/TV  good  \n",
       "1        48             radio/TV   bad  \n",
       "2        12            education  good  \n",
       "3        42  furniture/equipment  good  \n",
       "4        24                  car   bad  "
      ]
     },
     "execution_count": 3,
     "metadata": {},
     "output_type": "execute_result"
    }
   ],
   "source": [
    "df = pd.read_csv('../Data/german_credit_data_labels.csv', index_col=0)\n",
    "df.head()"
   ]
  },
  {
   "cell_type": "code",
   "execution_count": 4,
   "metadata": {},
   "outputs": [
    {
     "data": {
      "text/plain": [
       "(1000, 10)"
      ]
     },
     "execution_count": 4,
     "metadata": {},
     "output_type": "execute_result"
    }
   ],
   "source": [
    "df.shape"
   ]
  },
  {
   "cell_type": "code",
   "execution_count": 5,
   "metadata": {},
   "outputs": [
    {
     "data": {
      "text/plain": [
       "False"
      ]
     },
     "execution_count": 5,
     "metadata": {},
     "output_type": "execute_result"
    }
   ],
   "source": [
    "df['Risk'].isnull().any()"
   ]
  },
  {
   "cell_type": "code",
   "execution_count": 6,
   "metadata": {},
   "outputs": [
    {
     "data": {
      "text/plain": [
       "good    700\n",
       "bad     300\n",
       "Name: Risk, dtype: int64"
      ]
     },
     "execution_count": 6,
     "metadata": {},
     "output_type": "execute_result"
    }
   ],
   "source": [
    "df['Risk'].value_counts()"
   ]
  },
  {
   "cell_type": "markdown",
   "metadata": {},
   "source": [
    "## Data Analysis"
   ]
  },
  {
   "cell_type": "code",
   "execution_count": 7,
   "metadata": {},
   "outputs": [
    {
     "data": {
      "text/plain": [
       "array(['male', 'female'], dtype=object)"
      ]
     },
     "execution_count": 7,
     "metadata": {},
     "output_type": "execute_result"
    }
   ],
   "source": [
    "df['Sex'].unique()"
   ]
  },
  {
   "cell_type": "code",
   "execution_count": 8,
   "metadata": {},
   "outputs": [
    {
     "data": {
      "text/plain": [
       "array(['own', 'free', 'rent'], dtype=object)"
      ]
     },
     "execution_count": 8,
     "metadata": {},
     "output_type": "execute_result"
    }
   ],
   "source": [
    "df['Housing'].unique()"
   ]
  },
  {
   "cell_type": "code",
   "execution_count": 9,
   "metadata": {},
   "outputs": [
    {
     "data": {
      "text/plain": [
       "array(['radio/TV', 'education', 'furniture/equipment', 'car', 'business',\n",
       "       'domestic appliances', 'repairs', 'vacation/others'], dtype=object)"
      ]
     },
     "execution_count": 9,
     "metadata": {},
     "output_type": "execute_result"
    }
   ],
   "source": [
    "df['Purpose'].unique()"
   ]
  },
  {
   "cell_type": "code",
   "execution_count": 10,
   "metadata": {},
   "outputs": [
    {
     "data": {
      "text/plain": [
       "little        603\n",
       "moderate      103\n",
       "quite rich     63\n",
       "rich           48\n",
       "Name: Saving accounts, dtype: int64"
      ]
     },
     "execution_count": 10,
     "metadata": {},
     "output_type": "execute_result"
    }
   ],
   "source": [
    "df['Saving accounts'].value_counts()"
   ]
  },
  {
   "cell_type": "code",
   "execution_count": 11,
   "metadata": {},
   "outputs": [
    {
     "data": {
      "text/plain": [
       "little      274\n",
       "moderate    269\n",
       "rich         63\n",
       "Name: Checking account, dtype: int64"
      ]
     },
     "execution_count": 11,
     "metadata": {},
     "output_type": "execute_result"
    }
   ],
   "source": [
    "df['Checking account'].value_counts()"
   ]
  },
  {
   "cell_type": "markdown",
   "metadata": {},
   "source": [
    "## Data Cleaning"
   ]
  },
  {
   "cell_type": "code",
   "execution_count": 12,
   "metadata": {},
   "outputs": [],
   "source": [
    "# Null values, encoding categorical values...."
   ]
  },
  {
   "cell_type": "code",
   "execution_count": 13,
   "metadata": {},
   "outputs": [
    {
     "data": {
      "text/plain": [
       "Sex                 object\n",
       "Housing             object\n",
       "Saving accounts     object\n",
       "Checking account    object\n",
       "Purpose             object\n",
       "Risk                object\n",
       "dtype: object"
      ]
     },
     "execution_count": 13,
     "metadata": {},
     "output_type": "execute_result"
    }
   ],
   "source": [
    "df.dtypes[df.dtypes == np.object]"
   ]
  },
  {
   "cell_type": "code",
   "execution_count": 14,
   "metadata": {},
   "outputs": [
    {
     "data": {
      "text/plain": [
       "Age                 False\n",
       "Sex                 False\n",
       "Job                 False\n",
       "Housing             False\n",
       "Saving accounts      True\n",
       "Checking account     True\n",
       "Credit amount       False\n",
       "Duration            False\n",
       "Purpose             False\n",
       "Risk                False\n",
       "dtype: bool"
      ]
     },
     "execution_count": 14,
     "metadata": {},
     "output_type": "execute_result"
    }
   ],
   "source": [
    "df.isnull().any()"
   ]
  },
  {
   "cell_type": "code",
   "execution_count": 15,
   "metadata": {},
   "outputs": [
    {
     "data": {
      "text/plain": [
       "Saving accounts     183\n",
       "Checking account    394\n",
       "dtype: int64"
      ]
     },
     "execution_count": 15,
     "metadata": {},
     "output_type": "execute_result"
    }
   ],
   "source": [
    "df.isnull().sum()[df.isnull().any()]"
   ]
  },
  {
   "cell_type": "code",
   "execution_count": 16,
   "metadata": {},
   "outputs": [
    {
     "data": {
      "text/plain": [
       "Age                 False\n",
       "Sex                 False\n",
       "Job                 False\n",
       "Housing             False\n",
       "Saving accounts      True\n",
       "Checking account     True\n",
       "Credit amount       False\n",
       "Duration            False\n",
       "Purpose             False\n",
       "Risk                False\n",
       "dtype: bool"
      ]
     },
     "execution_count": 16,
     "metadata": {},
     "output_type": "execute_result"
    }
   ],
   "source": [
    "(df.dtypes == np.object) & (df.isnull().any())"
   ]
  },
  {
   "cell_type": "code",
   "execution_count": 17,
   "metadata": {},
   "outputs": [],
   "source": [
    "df['Saving accounts'].fillna('null', inplace=True)\n",
    "df['Checking account'].fillna('null', inplace=True)"
   ]
  },
  {
   "cell_type": "code",
   "execution_count": 18,
   "metadata": {},
   "outputs": [],
   "source": [
    "df.loc[df['Risk'] == 'good', 'Risk'] = 0\n",
    "df.loc[df['Risk'] == 'bad', 'Risk'] = 1\n",
    "df['Risk'] = df['Risk'].astype(int)"
   ]
  },
  {
   "cell_type": "code",
   "execution_count": 19,
   "metadata": {},
   "outputs": [],
   "source": [
    "df.loc[df['Sex'] == 'male', 'Sex'] = 0\n",
    "df.loc[df['Sex'] == 'female', 'Sex'] = 1\n",
    "df['Risk'] = df['Risk'].astype(int)"
   ]
  },
  {
   "cell_type": "code",
   "execution_count": 20,
   "metadata": {},
   "outputs": [
    {
     "data": {
      "text/html": [
       "<div>\n",
       "<style scoped>\n",
       "    .dataframe tbody tr th:only-of-type {\n",
       "        vertical-align: middle;\n",
       "    }\n",
       "\n",
       "    .dataframe tbody tr th {\n",
       "        vertical-align: top;\n",
       "    }\n",
       "\n",
       "    .dataframe thead th {\n",
       "        text-align: right;\n",
       "    }\n",
       "</style>\n",
       "<table border=\"1\" class=\"dataframe\">\n",
       "  <thead>\n",
       "    <tr style=\"text-align: right;\">\n",
       "      <th></th>\n",
       "      <th>Checking_little</th>\n",
       "      <th>Checking_moderate</th>\n",
       "      <th>Checking_null</th>\n",
       "      <th>Checking_rich</th>\n",
       "      <th>Savings_little</th>\n",
       "      <th>Savings_moderate</th>\n",
       "      <th>Savings_null</th>\n",
       "      <th>Savings_quite rich</th>\n",
       "      <th>Savings_rich</th>\n",
       "      <th>Purpose_business</th>\n",
       "      <th>...</th>\n",
       "      <th>Age</th>\n",
       "      <th>Sex</th>\n",
       "      <th>Job</th>\n",
       "      <th>Housing</th>\n",
       "      <th>Saving accounts</th>\n",
       "      <th>Checking account</th>\n",
       "      <th>Credit amount</th>\n",
       "      <th>Duration</th>\n",
       "      <th>Purpose</th>\n",
       "      <th>Risk</th>\n",
       "    </tr>\n",
       "  </thead>\n",
       "  <tbody>\n",
       "    <tr>\n",
       "      <th>0</th>\n",
       "      <td>1</td>\n",
       "      <td>0</td>\n",
       "      <td>0</td>\n",
       "      <td>0</td>\n",
       "      <td>0</td>\n",
       "      <td>0</td>\n",
       "      <td>1</td>\n",
       "      <td>0</td>\n",
       "      <td>0</td>\n",
       "      <td>0</td>\n",
       "      <td>...</td>\n",
       "      <td>67</td>\n",
       "      <td>0</td>\n",
       "      <td>2</td>\n",
       "      <td>own</td>\n",
       "      <td>null</td>\n",
       "      <td>little</td>\n",
       "      <td>1169</td>\n",
       "      <td>6</td>\n",
       "      <td>radio/TV</td>\n",
       "      <td>0</td>\n",
       "    </tr>\n",
       "    <tr>\n",
       "      <th>1</th>\n",
       "      <td>0</td>\n",
       "      <td>1</td>\n",
       "      <td>0</td>\n",
       "      <td>0</td>\n",
       "      <td>1</td>\n",
       "      <td>0</td>\n",
       "      <td>0</td>\n",
       "      <td>0</td>\n",
       "      <td>0</td>\n",
       "      <td>0</td>\n",
       "      <td>...</td>\n",
       "      <td>22</td>\n",
       "      <td>1</td>\n",
       "      <td>2</td>\n",
       "      <td>own</td>\n",
       "      <td>little</td>\n",
       "      <td>moderate</td>\n",
       "      <td>5951</td>\n",
       "      <td>48</td>\n",
       "      <td>radio/TV</td>\n",
       "      <td>1</td>\n",
       "    </tr>\n",
       "    <tr>\n",
       "      <th>2</th>\n",
       "      <td>0</td>\n",
       "      <td>0</td>\n",
       "      <td>1</td>\n",
       "      <td>0</td>\n",
       "      <td>1</td>\n",
       "      <td>0</td>\n",
       "      <td>0</td>\n",
       "      <td>0</td>\n",
       "      <td>0</td>\n",
       "      <td>0</td>\n",
       "      <td>...</td>\n",
       "      <td>49</td>\n",
       "      <td>0</td>\n",
       "      <td>1</td>\n",
       "      <td>own</td>\n",
       "      <td>little</td>\n",
       "      <td>null</td>\n",
       "      <td>2096</td>\n",
       "      <td>12</td>\n",
       "      <td>education</td>\n",
       "      <td>0</td>\n",
       "    </tr>\n",
       "    <tr>\n",
       "      <th>3</th>\n",
       "      <td>1</td>\n",
       "      <td>0</td>\n",
       "      <td>0</td>\n",
       "      <td>0</td>\n",
       "      <td>1</td>\n",
       "      <td>0</td>\n",
       "      <td>0</td>\n",
       "      <td>0</td>\n",
       "      <td>0</td>\n",
       "      <td>0</td>\n",
       "      <td>...</td>\n",
       "      <td>45</td>\n",
       "      <td>0</td>\n",
       "      <td>2</td>\n",
       "      <td>free</td>\n",
       "      <td>little</td>\n",
       "      <td>little</td>\n",
       "      <td>7882</td>\n",
       "      <td>42</td>\n",
       "      <td>furniture/equipment</td>\n",
       "      <td>0</td>\n",
       "    </tr>\n",
       "    <tr>\n",
       "      <th>4</th>\n",
       "      <td>1</td>\n",
       "      <td>0</td>\n",
       "      <td>0</td>\n",
       "      <td>0</td>\n",
       "      <td>1</td>\n",
       "      <td>0</td>\n",
       "      <td>0</td>\n",
       "      <td>0</td>\n",
       "      <td>0</td>\n",
       "      <td>0</td>\n",
       "      <td>...</td>\n",
       "      <td>53</td>\n",
       "      <td>0</td>\n",
       "      <td>2</td>\n",
       "      <td>free</td>\n",
       "      <td>little</td>\n",
       "      <td>little</td>\n",
       "      <td>4870</td>\n",
       "      <td>24</td>\n",
       "      <td>car</td>\n",
       "      <td>1</td>\n",
       "    </tr>\n",
       "  </tbody>\n",
       "</table>\n",
       "<p>5 rows × 34 columns</p>\n",
       "</div>"
      ],
      "text/plain": [
       "   Checking_little  Checking_moderate  Checking_null  Checking_rich  \\\n",
       "0                1                  0              0              0   \n",
       "1                0                  1              0              0   \n",
       "2                0                  0              1              0   \n",
       "3                1                  0              0              0   \n",
       "4                1                  0              0              0   \n",
       "\n",
       "   Savings_little  Savings_moderate  Savings_null  Savings_quite rich  \\\n",
       "0               0                 0             1                   0   \n",
       "1               1                 0             0                   0   \n",
       "2               1                 0             0                   0   \n",
       "3               1                 0             0                   0   \n",
       "4               1                 0             0                   0   \n",
       "\n",
       "   Savings_rich  Purpose_business  ...  Age  Sex  Job  Housing  \\\n",
       "0             0                 0  ...   67    0    2      own   \n",
       "1             0                 0  ...   22    1    2      own   \n",
       "2             0                 0  ...   49    0    1      own   \n",
       "3             0                 0  ...   45    0    2     free   \n",
       "4             0                 0  ...   53    0    2     free   \n",
       "\n",
       "   Saving accounts  Checking account  Credit amount  Duration  \\\n",
       "0             null            little           1169         6   \n",
       "1           little          moderate           5951        48   \n",
       "2           little              null           2096        12   \n",
       "3           little            little           7882        42   \n",
       "4           little            little           4870        24   \n",
       "\n",
       "               Purpose  Risk  \n",
       "0             radio/TV     0  \n",
       "1             radio/TV     1  \n",
       "2            education     0  \n",
       "3  furniture/equipment     0  \n",
       "4                  car     1  \n",
       "\n",
       "[5 rows x 34 columns]"
      ]
     },
     "execution_count": 20,
     "metadata": {},
     "output_type": "execute_result"
    }
   ],
   "source": [
    "df = pd.get_dummies(df['Job'], prefix='Job').merge(df, left_index=True, right_index=True)\n",
    "df = pd.get_dummies(df['Housing'], prefix='Housing').merge(df, left_index=True, right_index=True)\n",
    "df = pd.get_dummies(df['Purpose'], prefix='Purpose').merge(df, left_index=True, right_index=True)\n",
    "df = pd.get_dummies(df['Saving accounts'], prefix='Savings').merge(df, left_index=True, right_index=True)\n",
    "df = pd.get_dummies(df['Checking account'], prefix='Checking').merge(df, left_index=True, right_index=True)\n",
    "df.head()"
   ]
  },
  {
   "cell_type": "markdown",
   "metadata": {},
   "source": [
    "## Feature Selection based on Correlation"
   ]
  },
  {
   "cell_type": "code",
   "execution_count": 21,
   "metadata": {},
   "outputs": [
    {
     "data": {
      "text/html": [
       "<style  type=\"text/css\" >\n",
       "    #T_24d40148_fb3b_11e9_8c26_edaf53886a60row0_col0 {\n",
       "            background-color:  #d0d1e6;\n",
       "            color:  #000000;\n",
       "        }    #T_24d40148_fb3b_11e9_8c26_edaf53886a60row1_col0 {\n",
       "            background-color:  #eee8f3;\n",
       "            color:  #000000;\n",
       "        }    #T_24d40148_fb3b_11e9_8c26_edaf53886a60row2_col0 {\n",
       "            background-color:  #b9c6e0;\n",
       "            color:  #000000;\n",
       "        }    #T_24d40148_fb3b_11e9_8c26_edaf53886a60row3_col0 {\n",
       "            background-color:  #faf2f8;\n",
       "            color:  #000000;\n",
       "        }    #T_24d40148_fb3b_11e9_8c26_edaf53886a60row4_col0 {\n",
       "            background-color:  #e6e2ef;\n",
       "            color:  #000000;\n",
       "        }    #T_24d40148_fb3b_11e9_8c26_edaf53886a60row5_col0 {\n",
       "            background-color:  #fdf5fa;\n",
       "            color:  #000000;\n",
       "        }    #T_24d40148_fb3b_11e9_8c26_edaf53886a60row6_col0 {\n",
       "            background-color:  #ede7f2;\n",
       "            color:  #000000;\n",
       "        }    #T_24d40148_fb3b_11e9_8c26_edaf53886a60row7_col0 {\n",
       "            background-color:  #f5eff6;\n",
       "            color:  #000000;\n",
       "        }    #T_24d40148_fb3b_11e9_8c26_edaf53886a60row8_col0 {\n",
       "            background-color:  #f3edf5;\n",
       "            color:  #000000;\n",
       "        }    #T_24d40148_fb3b_11e9_8c26_edaf53886a60row9_col0 {\n",
       "            background-color:  #fbf3f9;\n",
       "            color:  #000000;\n",
       "        }    #T_24d40148_fb3b_11e9_8c26_edaf53886a60row10_col0 {\n",
       "            background-color:  #fdf5fa;\n",
       "            color:  #000000;\n",
       "        }    #T_24d40148_fb3b_11e9_8c26_edaf53886a60row11_col0 {\n",
       "            background-color:  #fff7fb;\n",
       "            color:  #000000;\n",
       "        }    #T_24d40148_fb3b_11e9_8c26_edaf53886a60row12_col0 {\n",
       "            background-color:  #f8f1f8;\n",
       "            color:  #000000;\n",
       "        }    #T_24d40148_fb3b_11e9_8c26_edaf53886a60row13_col0 {\n",
       "            background-color:  #fdf5fa;\n",
       "            color:  #000000;\n",
       "        }    #T_24d40148_fb3b_11e9_8c26_edaf53886a60row14_col0 {\n",
       "            background-color:  #f0eaf4;\n",
       "            color:  #000000;\n",
       "        }    #T_24d40148_fb3b_11e9_8c26_edaf53886a60row15_col0 {\n",
       "            background-color:  #fdf5fa;\n",
       "            color:  #000000;\n",
       "        }    #T_24d40148_fb3b_11e9_8c26_edaf53886a60row16_col0 {\n",
       "            background-color:  #fcf4fa;\n",
       "            color:  #000000;\n",
       "        }    #T_24d40148_fb3b_11e9_8c26_edaf53886a60row17_col0 {\n",
       "            background-color:  #f4edf6;\n",
       "            color:  #000000;\n",
       "        }    #T_24d40148_fb3b_11e9_8c26_edaf53886a60row18_col0 {\n",
       "            background-color:  #ebe6f2;\n",
       "            color:  #000000;\n",
       "        }    #T_24d40148_fb3b_11e9_8c26_edaf53886a60row19_col0 {\n",
       "            background-color:  #f2ecf5;\n",
       "            color:  #000000;\n",
       "        }    #T_24d40148_fb3b_11e9_8c26_edaf53886a60row20_col0 {\n",
       "            background-color:  #fff7fb;\n",
       "            color:  #000000;\n",
       "        }    #T_24d40148_fb3b_11e9_8c26_edaf53886a60row21_col0 {\n",
       "            background-color:  #fdf5fa;\n",
       "            color:  #000000;\n",
       "        }    #T_24d40148_fb3b_11e9_8c26_edaf53886a60row22_col0 {\n",
       "            background-color:  #fef6fb;\n",
       "            color:  #000000;\n",
       "        }    #T_24d40148_fb3b_11e9_8c26_edaf53886a60row23_col0 {\n",
       "            background-color:  #faf3f9;\n",
       "            color:  #000000;\n",
       "        }    #T_24d40148_fb3b_11e9_8c26_edaf53886a60row24_col0 {\n",
       "            background-color:  #f2ecf5;\n",
       "            color:  #000000;\n",
       "        }    #T_24d40148_fb3b_11e9_8c26_edaf53886a60row25_col0 {\n",
       "            background-color:  #f5eef6;\n",
       "            color:  #000000;\n",
       "        }    #T_24d40148_fb3b_11e9_8c26_edaf53886a60row26_col0 {\n",
       "            background-color:  #fbf4f9;\n",
       "            color:  #000000;\n",
       "        }    #T_24d40148_fb3b_11e9_8c26_edaf53886a60row27_col0 {\n",
       "            background-color:  #e7e3f0;\n",
       "            color:  #000000;\n",
       "        }    #T_24d40148_fb3b_11e9_8c26_edaf53886a60row28_col0 {\n",
       "            background-color:  #d9d8ea;\n",
       "            color:  #000000;\n",
       "        }    #T_24d40148_fb3b_11e9_8c26_edaf53886a60row29_col0 {\n",
       "            background-color:  #023858;\n",
       "            color:  #f1f1f1;\n",
       "        }</style><table id=\"T_24d40148_fb3b_11e9_8c26_edaf53886a60\" ><thead>    <tr>        <th class=\"blank level0\" ></th>        <th class=\"col_heading level0 col0\" >Risk</th>    </tr></thead><tbody>\n",
       "                <tr>\n",
       "                        <th id=\"T_24d40148_fb3b_11e9_8c26_edaf53886a60level0_row0\" class=\"row_heading level0 row0\" >Checking_little</th>\n",
       "                        <td id=\"T_24d40148_fb3b_11e9_8c26_edaf53886a60row0_col0\" class=\"data row0 col0\" >0.258333</td>\n",
       "            </tr>\n",
       "            <tr>\n",
       "                        <th id=\"T_24d40148_fb3b_11e9_8c26_edaf53886a60level0_row1\" class=\"row_heading level0 row1\" >Checking_moderate</th>\n",
       "                        <td id=\"T_24d40148_fb3b_11e9_8c26_edaf53886a60row1_col0\" class=\"data row1 col0\" >0.119581</td>\n",
       "            </tr>\n",
       "            <tr>\n",
       "                        <th id=\"T_24d40148_fb3b_11e9_8c26_edaf53886a60level0_row2\" class=\"row_heading level0 row2\" >Checking_null</th>\n",
       "                        <td id=\"T_24d40148_fb3b_11e9_8c26_edaf53886a60row2_col0\" class=\"data row2 col0\" >0.322436</td>\n",
       "            </tr>\n",
       "            <tr>\n",
       "                        <th id=\"T_24d40148_fb3b_11e9_8c26_edaf53886a60level0_row3\" class=\"row_heading level0 row3\" >Checking_rich</th>\n",
       "                        <td id=\"T_24d40148_fb3b_11e9_8c26_edaf53886a60row3_col0\" class=\"data row3 col0\" >0.0440095</td>\n",
       "            </tr>\n",
       "            <tr>\n",
       "                        <th id=\"T_24d40148_fb3b_11e9_8c26_edaf53886a60level0_row4\" class=\"row_heading level0 row4\" >Savings_little</th>\n",
       "                        <td id=\"T_24d40148_fb3b_11e9_8c26_edaf53886a60row4_col0\" class=\"data row4 col0\" >0.161007</td>\n",
       "            </tr>\n",
       "            <tr>\n",
       "                        <th id=\"T_24d40148_fb3b_11e9_8c26_edaf53886a60level0_row5\" class=\"row_heading level0 row5\" >Savings_moderate</th>\n",
       "                        <td id=\"T_24d40148_fb3b_11e9_8c26_edaf53886a60row5_col0\" class=\"data row5 col0\" >0.0222555</td>\n",
       "            </tr>\n",
       "            <tr>\n",
       "                        <th id=\"T_24d40148_fb3b_11e9_8c26_edaf53886a60level0_row6\" class=\"row_heading level0 row6\" >Savings_null</th>\n",
       "                        <td id=\"T_24d40148_fb3b_11e9_8c26_edaf53886a60row6_col0\" class=\"data row6 col0\" >0.129238</td>\n",
       "            </tr>\n",
       "            <tr>\n",
       "                        <th id=\"T_24d40148_fb3b_11e9_8c26_edaf53886a60level0_row7\" class=\"row_heading level0 row7\" >Savings_quite rich</th>\n",
       "                        <td id=\"T_24d40148_fb3b_11e9_8c26_edaf53886a60row7_col0\" class=\"data row7 col0\" >0.0709541</td>\n",
       "            </tr>\n",
       "            <tr>\n",
       "                        <th id=\"T_24d40148_fb3b_11e9_8c26_edaf53886a60level0_row8\" class=\"row_heading level0 row8\" >Savings_rich</th>\n",
       "                        <td id=\"T_24d40148_fb3b_11e9_8c26_edaf53886a60row8_col0\" class=\"data row8 col0\" >0.0857493</td>\n",
       "            </tr>\n",
       "            <tr>\n",
       "                        <th id=\"T_24d40148_fb3b_11e9_8c26_edaf53886a60level0_row9\" class=\"row_heading level0 row9\" >Purpose_business</th>\n",
       "                        <td id=\"T_24d40148_fb3b_11e9_8c26_edaf53886a60row9_col0\" class=\"data row9 col0\" >0.0361291</td>\n",
       "            </tr>\n",
       "            <tr>\n",
       "                        <th id=\"T_24d40148_fb3b_11e9_8c26_edaf53886a60level0_row10\" class=\"row_heading level0 row10\" >Purpose_car</th>\n",
       "                        <td id=\"T_24d40148_fb3b_11e9_8c26_edaf53886a60row10_col0\" class=\"data row10 col0\" >0.0226212</td>\n",
       "            </tr>\n",
       "            <tr>\n",
       "                        <th id=\"T_24d40148_fb3b_11e9_8c26_edaf53886a60level0_row11\" class=\"row_heading level0 row11\" >Purpose_domestic appliances</th>\n",
       "                        <td id=\"T_24d40148_fb3b_11e9_8c26_edaf53886a60row11_col0\" class=\"data row11 col0\" >0.00801643</td>\n",
       "            </tr>\n",
       "            <tr>\n",
       "                        <th id=\"T_24d40148_fb3b_11e9_8c26_edaf53886a60level0_row12\" class=\"row_heading level0 row12\" >Purpose_education</th>\n",
       "                        <td id=\"T_24d40148_fb3b_11e9_8c26_edaf53886a60row12_col0\" class=\"data row12 col0\" >0.0490846</td>\n",
       "            </tr>\n",
       "            <tr>\n",
       "                        <th id=\"T_24d40148_fb3b_11e9_8c26_edaf53886a60level0_row13\" class=\"row_heading level0 row13\" >Purpose_furniture/equipment</th>\n",
       "                        <td id=\"T_24d40148_fb3b_11e9_8c26_edaf53886a60row13_col0\" class=\"data row13 col0\" >0.0209706</td>\n",
       "            </tr>\n",
       "            <tr>\n",
       "                        <th id=\"T_24d40148_fb3b_11e9_8c26_edaf53886a60level0_row14\" class=\"row_heading level0 row14\" >Purpose_radio/TV</th>\n",
       "                        <td id=\"T_24d40148_fb3b_11e9_8c26_edaf53886a60row14_col0\" class=\"data row14 col0\" >0.106922</td>\n",
       "            </tr>\n",
       "            <tr>\n",
       "                        <th id=\"T_24d40148_fb3b_11e9_8c26_edaf53886a60level0_row15\" class=\"row_heading level0 row15\" >Purpose_repairs</th>\n",
       "                        <td id=\"T_24d40148_fb3b_11e9_8c26_edaf53886a60row15_col0\" class=\"data row15 col0\" >0.0208275</td>\n",
       "            </tr>\n",
       "            <tr>\n",
       "                        <th id=\"T_24d40148_fb3b_11e9_8c26_edaf53886a60level0_row16\" class=\"row_heading level0 row16\" >Purpose_vacation/others</th>\n",
       "                        <td id=\"T_24d40148_fb3b_11e9_8c26_edaf53886a60row16_col0\" class=\"data row16 col0\" >0.0280575</td>\n",
       "            </tr>\n",
       "            <tr>\n",
       "                        <th id=\"T_24d40148_fb3b_11e9_8c26_edaf53886a60level0_row17\" class=\"row_heading level0 row17\" >Housing_free</th>\n",
       "                        <td id=\"T_24d40148_fb3b_11e9_8c26_edaf53886a60row17_col0\" class=\"data row17 col0\" >0.0815556</td>\n",
       "            </tr>\n",
       "            <tr>\n",
       "                        <th id=\"T_24d40148_fb3b_11e9_8c26_edaf53886a60level0_row18\" class=\"row_heading level0 row18\" >Housing_own</th>\n",
       "                        <td id=\"T_24d40148_fb3b_11e9_8c26_edaf53886a60row18_col0\" class=\"data row18 col0\" >0.134589</td>\n",
       "            </tr>\n",
       "            <tr>\n",
       "                        <th id=\"T_24d40148_fb3b_11e9_8c26_edaf53886a60level0_row19\" class=\"row_heading level0 row19\" >Housing_rent</th>\n",
       "                        <td id=\"T_24d40148_fb3b_11e9_8c26_edaf53886a60row19_col0\" class=\"data row19 col0\" >0.0927854</td>\n",
       "            </tr>\n",
       "            <tr>\n",
       "                        <th id=\"T_24d40148_fb3b_11e9_8c26_edaf53886a60level0_row20\" class=\"row_heading level0 row20\" >Job_0</th>\n",
       "                        <td id=\"T_24d40148_fb3b_11e9_8c26_edaf53886a60row20_col0\" class=\"data row20 col0\" >0.00595072</td>\n",
       "            </tr>\n",
       "            <tr>\n",
       "                        <th id=\"T_24d40148_fb3b_11e9_8c26_edaf53886a60level0_row21\" class=\"row_heading level0 row21\" >Job_1</th>\n",
       "                        <td id=\"T_24d40148_fb3b_11e9_8c26_edaf53886a60row21_col0\" class=\"data row21 col0\" >0.0218218</td>\n",
       "            </tr>\n",
       "            <tr>\n",
       "                        <th id=\"T_24d40148_fb3b_11e9_8c26_edaf53886a60level0_row22\" class=\"row_heading level0 row22\" >Job_2</th>\n",
       "                        <td id=\"T_24d40148_fb3b_11e9_8c26_edaf53886a60row22_col0\" class=\"data row22 col0\" >0.0135594</td>\n",
       "            </tr>\n",
       "            <tr>\n",
       "                        <th id=\"T_24d40148_fb3b_11e9_8c26_edaf53886a60level0_row23\" class=\"row_heading level0 row23\" >Job_3</th>\n",
       "                        <td id=\"T_24d40148_fb3b_11e9_8c26_edaf53886a60row23_col0\" class=\"data row23 col0\" >0.0405587</td>\n",
       "            </tr>\n",
       "            <tr>\n",
       "                        <th id=\"T_24d40148_fb3b_11e9_8c26_edaf53886a60level0_row24\" class=\"row_heading level0 row24\" >Age</th>\n",
       "                        <td id=\"T_24d40148_fb3b_11e9_8c26_edaf53886a60row24_col0\" class=\"data row24 col0\" >0.0911274</td>\n",
       "            </tr>\n",
       "            <tr>\n",
       "                        <th id=\"T_24d40148_fb3b_11e9_8c26_edaf53886a60level0_row25\" class=\"row_heading level0 row25\" >Sex</th>\n",
       "                        <td id=\"T_24d40148_fb3b_11e9_8c26_edaf53886a60row25_col0\" class=\"data row25 col0\" >0.0754927</td>\n",
       "            </tr>\n",
       "            <tr>\n",
       "                        <th id=\"T_24d40148_fb3b_11e9_8c26_edaf53886a60level0_row26\" class=\"row_heading level0 row26\" >Job</th>\n",
       "                        <td id=\"T_24d40148_fb3b_11e9_8c26_edaf53886a60row26_col0\" class=\"data row26 col0\" >0.032735</td>\n",
       "            </tr>\n",
       "            <tr>\n",
       "                        <th id=\"T_24d40148_fb3b_11e9_8c26_edaf53886a60level0_row27\" class=\"row_heading level0 row27\" >Credit amount</th>\n",
       "                        <td id=\"T_24d40148_fb3b_11e9_8c26_edaf53886a60row27_col0\" class=\"data row27 col0\" >0.154739</td>\n",
       "            </tr>\n",
       "            <tr>\n",
       "                        <th id=\"T_24d40148_fb3b_11e9_8c26_edaf53886a60level0_row28\" class=\"row_heading level0 row28\" >Duration</th>\n",
       "                        <td id=\"T_24d40148_fb3b_11e9_8c26_edaf53886a60row28_col0\" class=\"data row28 col0\" >0.214927</td>\n",
       "            </tr>\n",
       "            <tr>\n",
       "                        <th id=\"T_24d40148_fb3b_11e9_8c26_edaf53886a60level0_row29\" class=\"row_heading level0 row29\" >Risk</th>\n",
       "                        <td id=\"T_24d40148_fb3b_11e9_8c26_edaf53886a60row29_col0\" class=\"data row29 col0\" >1</td>\n",
       "            </tr>\n",
       "    </tbody></table>"
      ],
      "text/plain": [
       "<pandas.io.formats.style.Styler at 0x7ff65a4059e8>"
      ]
     },
     "execution_count": 21,
     "metadata": {},
     "output_type": "execute_result"
    }
   ],
   "source": [
    "df.corr().abs().filter(['Risk']).style.background_gradient()"
   ]
  },
  {
   "cell_type": "code",
   "execution_count": 23,
   "metadata": {},
   "outputs": [],
   "source": [
    "features = ['Checking_little', 'Checking_null', 'Savings_little', 'Savings_null', 'Purpose_radio/TV', 'Housing_own',\n",
    "            'Credit amount', 'Duration']\n",
    "X = df[features].values\n",
    "y = df['Risk'].values"
   ]
  },
  {
   "cell_type": "markdown",
   "metadata": {},
   "source": [
    "## Evaluation"
   ]
  },
  {
   "cell_type": "code",
   "execution_count": 47,
   "metadata": {},
   "outputs": [],
   "source": [
    "# Create the model and the hyperparameters range to optimize\n",
    "less_than_1 = [.0001,.001,.01,0.1,0.2,0.3,0.4,0.5,0.6,0.7,0.8,0.9,1.0]\n",
    "more_than_1 = list(np.arange(1,11))\n",
    "#classifier = MultinomialNB()\n",
    "#params = {'clf__alpha': less_than_1}\n",
    "#classifier = DecisionTreeClassifier()\n",
    "\n",
    "#params = {'clf__max_depth': np.append(np.arange(1, 21), None), 'clf__criterion': ['gini', 'entropy'], \n",
    "#          'clf__splitter': ['best', 'random'], 'clf__class_weight': ['balanced', None], \n",
    "#          'clf__max_features': ['auto', 'log2', None]}\n",
    "classifier = LogisticRegression(n_jobs=-1)\n",
    "#classifier = LinearSVC(dual=False)\n",
    "params = {'clf__penalty': ['l1','l2'], 'clf__tol': less_than_1, 'clf__C': np.append(less_than_1, np.arange(1,16))}\n",
    "#classifier = KNeighborsClassifier()\n",
    "#params = {'n_neighbors': np.arange(1,22), 'weights': ['uniform', 'distance'], \n",
    "#          'algorithm': ['auto', 'ball_tree', 'kd_tree', 'brute']}\n",
    "#classifier = RandomForestClassifier()\n",
    "#params = {'clf__n_estimators': np.arange(50, 1001, 50), 'clf__max_depth': np.append(np.arange(1, 11), None)}\n",
    "#classifier = MLPClassifier(hidden_layer_sizes=(50,50))\n",
    "#params = {'activation': ['logistic', 'tanh', 'relu'], 'alpha': less_than_1}\n",
    "#classifier = BaggingClassifier(base_estimator=DecisionTreeClassifier(class_weight='balanced', criterion='entropy', \n",
    "#                                                                     max_depth=9, max_features=None, \n",
    "#                                                                     splitter='best'), n_jobs=8)\n",
    "#params = {'clf__n_estimators': np.arange(50, 1001, 50), 'clf__max_samples': [0.5, 0.8, 1.0],\n",
    "#          'clf__max_features': [0.5, 0.8, 1.0]}\n",
    "#params = {'clf__bootstrap': [True, False], 'clf__bootstrap_features': [True, False]}\n",
    "#classifier = AdaBoostClassifier(base_estimator=DecisionTreeClassifier(class_weight='balanced', criterion='gini', \n",
    "#                                                                     max_depth=10, max_features=None, \n",
    "#                                                                     splitter='best'))\n",
    "#params = {'clf__n_estimators': np.arange(50, 1001, 50), 'clf__learning_rate': less_than_1}\n",
    "#classifier = GradientBoostingClassifier(max_depth=9)\n",
    "model = Pipeline([\n",
    "    ('scaler', MaxAbsScaler()),\n",
    "    ('clf', classifier)\n",
    "])"
   ]
  },
  {
   "cell_type": "code",
   "execution_count": 42,
   "metadata": {},
   "outputs": [
    {
     "name": "stdout",
     "output_type": "stream",
     "text": [
      "Accuracy score: 0.697 (+/- 0.013)\n",
      "Precision score: 0.684 (+/- 0.011)\n",
      "Recall score: 0.697 (+/- 0.013)\n",
      "F1 score: 0.687 (+/- 0.010)\n"
     ]
    }
   ],
   "source": [
    "# Cross Validate\n",
    "\n",
    "scores = cross_validate(model, X, y, cv=5, \n",
    "                        scoring=['accuracy', 'precision_weighted', 'recall_weighted', 'f1_weighted'], \n",
    "                        n_jobs=-1)\n",
    "accuracy_score = scores['test_accuracy']\n",
    "precision_score = scores['test_precision_weighted']\n",
    "recall_score = scores['test_recall_weighted']\n",
    "f1_score = scores['test_f1_weighted']\n",
    "\n",
    "print(\"Accuracy score: {0:.3f} (+/- {1:.3f})\".format(accuracy_score.mean(), accuracy_score.std()))\n",
    "print(\"Precision score: {0:.3f} (+/- {1:.3f})\".format(precision_score.mean(), precision_score.std()))\n",
    "print(\"Recall score: {0:.3f} (+/- {1:.3f})\".format(recall_score.mean(), recall_score.std()))\n",
    "print(\"F1 score: {0:.3f} (+/- {1:.3f})\".format(f1_score.mean(), f1_score.std()))"
   ]
  },
  {
   "cell_type": "markdown",
   "metadata": {},
   "source": [
    "## Optimization"
   ]
  },
  {
   "cell_type": "code",
   "execution_count": 48,
   "metadata": {},
   "outputs": [
    {
     "name": "stdout",
     "output_type": "stream",
     "text": [
      "Best score:  0.7186917650851026\n",
      "Best params:  {'clf__C': 9.0, 'clf__penalty': 'l1', 'clf__tol': 0.1}\n",
      "Accuracy score: 0.728 (+/- 0.025)\n",
      "Precision score: 0.706 (+/- 0.033)\n",
      "Recall score: 0.728 (+/- 0.025)\n",
      "F1 score: 0.704 (+/- 0.031)\n"
     ]
    },
    {
     "name": "stderr",
     "output_type": "stream",
     "text": [
      "/home/mandofu/anaconda3/lib/python3.7/site-packages/sklearn/linear_model/logistic.py:433: FutureWarning: Default solver will be changed to 'lbfgs' in 0.22. Specify a solver to silence this warning.\n",
      "  FutureWarning)\n",
      "/home/mandofu/anaconda3/lib/python3.7/site-packages/sklearn/linear_model/logistic.py:1300: UserWarning: 'n_jobs' > 1 does not have any effect when 'solver' is set to 'liblinear'. Got 'n_jobs' = 8.\n",
      "  \" = {}.\".format(effective_n_jobs(self.n_jobs)))\n"
     ]
    }
   ],
   "source": [
    "gs = GridSearchCV(model, params, cv=3, scoring='f1_weighted', iid=False, n_jobs=-1)\n",
    "gs.fit(X, y)\n",
    "\n",
    "# summarize the results of the grid search\n",
    "print(\"Best score: \", gs.best_score_)\n",
    "print(\"Best params: \", gs.best_params_)\n",
    "\n",
    "# Set best params to the estimators        \n",
    "model.set_params(**gs.best_params_)\n",
    "\n",
    "# Cross validate\n",
    "scores = cross_validate(model, X, y, cv=5, \n",
    "                        scoring=['accuracy', 'precision_weighted', 'recall_weighted', 'f1_weighted'], \n",
    "                        n_jobs=-1)\n",
    "accuracy_score = scores['test_accuracy']\n",
    "precision_score = scores['test_precision_weighted']\n",
    "recall_score = scores['test_recall_weighted']\n",
    "f1_score = scores['test_f1_weighted']\n",
    "\n",
    "print(\"Accuracy score: {0:.3f} (+/- {1:.3f})\".format(accuracy_score.mean(), accuracy_score.std()))\n",
    "print(\"Precision score: {0:.3f} (+/- {1:.3f})\".format(precision_score.mean(), precision_score.std()))\n",
    "print(\"Recall score: {0:.3f} (+/- {1:.3f})\".format(recall_score.mean(), recall_score.std()))\n",
    "print(\"F1 score: {0:.3f} (+/- {1:.3f})\".format(f1_score.mean(), f1_score.std()))"
   ]
  },
  {
   "cell_type": "code",
   "execution_count": null,
   "metadata": {},
   "outputs": [],
   "source": []
  }
 ],
 "metadata": {
  "kernelspec": {
   "display_name": "Python 3",
   "language": "python",
   "name": "python3"
  },
  "language_info": {
   "codemirror_mode": {
    "name": "ipython",
    "version": 3
   },
   "file_extension": ".py",
   "mimetype": "text/x-python",
   "name": "python",
   "nbconvert_exporter": "python",
   "pygments_lexer": "ipython3",
   "version": "3.7.3"
  }
 },
 "nbformat": 4,
 "nbformat_minor": 2
}
